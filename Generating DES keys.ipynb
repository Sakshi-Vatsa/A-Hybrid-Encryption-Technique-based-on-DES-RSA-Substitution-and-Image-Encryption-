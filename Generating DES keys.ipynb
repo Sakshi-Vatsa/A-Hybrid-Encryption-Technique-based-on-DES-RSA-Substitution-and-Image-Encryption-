{
 "cells": [
  {
   "cell_type": "code",
   "execution_count": null,
   "metadata": {},
   "outputs": [],
   "source": [
    "import secrets \n",
    "import string \n",
    "def Generate_Key():\n",
    "    res = ''.join(secrets.choice(string.ascii_uppercase[:6] + string.digits) for i in range(16))\n",
    "    return str(res)"
   ]
  },
  {
   "cell_type": "code",
   "execution_count": null,
   "metadata": {},
   "outputs": [],
   "source": [
    "key1 = Generate_Key()\n",
    "key2 = Generate_Key()\n",
    "key3 = Generate_Key()"
   ]
  },
  {
   "cell_type": "code",
   "execution_count": null,
   "metadata": {},
   "outputs": [],
   "source": [
    "keys=key1+\"####\"+key2+\"####\"+key3"
   ]
  },
  {
   "cell_type": "code",
   "execution_count": null,
   "metadata": {},
   "outputs": [],
   "source": [
    "f = open('get_keys.txt','w')\n",
    "f.write(keys)"
   ]
  }
 ],
 "metadata": {
  "kernelspec": {
   "display_name": "Python 3",
   "language": "python",
   "name": "python3"
  },
  "language_info": {
   "codemirror_mode": {
    "name": "ipython",
    "version": 3
   },
   "file_extension": ".py",
   "mimetype": "text/x-python",
   "name": "python",
   "nbconvert_exporter": "python",
   "pygments_lexer": "ipython3",
   "version": "3.8.5"
  }
 },
 "nbformat": 4,
 "nbformat_minor": 4
}
