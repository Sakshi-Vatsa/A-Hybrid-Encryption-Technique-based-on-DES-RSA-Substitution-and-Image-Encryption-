{
 "cells": [
  {
   "cell_type": "code",
   "execution_count": null,
   "metadata": {},
   "outputs": [],
   "source": [
    "prime1,prime2 = getPrimeKeys()\n",
    "#This is generated from the code of genrating prime numbers"
   ]
  },
  {
   "cell_type": "markdown",
   "metadata": {},
   "source": [
    "# ENCRYPTION\n"
   ]
  },
  {
   "cell_type": "code",
   "execution_count": null,
   "metadata": {},
   "outputs": [],
   "source": [
    "import math\n",
    "print(\"RSA ENCRYPTOR\")\n",
    "print(\"PLEASE ENTER THE 'p' AND 'q' VALUES BELOW:\")\n",
    "print(prime1)\n",
    "print(prime2)\n",
    "p = prime1\n",
    "q = prime2"
   ]
  },
  {
   "cell_type": "code",
   "execution_count": null,
   "metadata": {},
   "outputs": [],
   "source": [
    "n = p * q\n",
    "print(\"RSA Modulus(n) is:\",n)\n",
    "r= (p-1)*(q-1)\n",
    "print(\"Eulers Toitent(r) is:\",r)"
   ]
  },
  {
   "cell_type": "code",
   "execution_count": null,
   "metadata": {},
   "outputs": [],
   "source": [
    "def egcd(e,r):\n",
    "    while(r!=0):\n",
    "        e,r=r,e%r\n",
    "    return e"
   ]
  },
  {
   "cell_type": "code",
   "execution_count": null,
   "metadata": {},
   "outputs": [],
   "source": [
    "def eugcd(e,r):\n",
    "    for i in range(1,r):\n",
    "        while(e!=0):\n",
    "            a,b=r//e,r%e\n",
    "            if(b!=0):\n",
    "                print(\"%d = %d*(%d) + %d\"%(r,a,e,b))\n",
    "            r=e\n",
    "            e=b"
   ]
  },
  {
   "cell_type": "code",
   "execution_count": null,
   "metadata": {},
   "outputs": [],
   "source": [
    "#Extended Euclidean Algorithm\n",
    "def eea(a,b):\n",
    "    if(a%b==0):\n",
    "        return(b,0,1)\n",
    "    else:\n",
    "        gcd,s,t = eea(b,a%b)\n",
    "        s = s-((a//b) * t)\n",
    "        print(\"%d = %d*(%d) + (%d)*(%d)\"%(gcd,a,t,s,b))\n",
    "        return(gcd,t,s)"
   ]
  },
  {
   "cell_type": "code",
   "execution_count": null,
   "metadata": {},
   "outputs": [],
   "source": [
    "#Multiplicative Inverse\n",
    "def mult_inv(e,r):\n",
    "    gcd,s,_=eea(e,r)\n",
    "    if(gcd!=1):\n",
    "        return None\n",
    "    else:\n",
    "        if(s<0):\n",
    "            print(\"s=%d. Since %d is less than 0, s = s(modr), i.e., s=%d.\"%(s,s,s%r))\n",
    "        elif(s>0):\n",
    "            print(\"s=%d.\"%(s))\n",
    "        return s%r"
   ]
  },
  {
   "cell_type": "code",
   "execution_count": null,
   "metadata": {},
   "outputs": [],
   "source": [
    "for i in range(1,1000):\n",
    "    if(egcd(i,r)==1):\n",
    "        e=i\n",
    "print(\"The value of e is:\",e)"
   ]
  },
  {
   "cell_type": "code",
   "execution_count": null,
   "metadata": {
    "scrolled": false
   },
   "outputs": [],
   "source": [
    "#d, Private and Public Keys\n",
    "print(\"EUCLID'S ALGORITHM:\")\n",
    "eugcd(e,r)\n",
    "print(\"END OF THE STEPS USED TO ACHIEVE EUCLID'S ALGORITHM.\")\n",
    "print(\"EUCLID'S EXTENDED ALGORITHM:\")\n",
    "d = mult_inv(e,r)\n",
    "print(\"END OF THE STEPS USED TO ACHIEVE THE VALUE OF 'd'.\")\n",
    "print(\"The value of d is:\",d)\n",
    "public = (e,n)\n",
    "private = (d,n)\n",
    "print(\"Private Key is:\",private)\n",
    "print(\"Public Key is:\",public)"
   ]
  },
  {
   "cell_type": "code",
   "execution_count": null,
   "metadata": {},
   "outputs": [],
   "source": [
    "#Encryption\n",
    "'''ENCRYPTION ALGORITHM.'''\n",
    "def encrypt(pub_key,n_text):\n",
    "    e,n=pub_key\n",
    "    x=[]\n",
    "    m=0\n",
    "    for i in n_text:\n",
    "        if(i.isupper()):\n",
    "            m = ord(i)-65\n",
    "            c=(m**e)%n\n",
    "            x.append(c)\n",
    "        elif(i.islower()):               \n",
    "            m= ord(i)-97\n",
    "            c=(m**e)%n\n",
    "            x.append(c)\n",
    "        elif(i.isspace()):\n",
    "            spc=400\n",
    "            x.append(400)\n",
    "        elif(i.isdigit()):\n",
    "            m=ord(i)-48+26\n",
    "            c=(m**e)%n\n",
    "            x.append(c)\n",
    "    return x"
   ]
  },
  {
   "cell_type": "code",
   "execution_count": null,
   "metadata": {},
   "outputs": [],
   "source": [
    "#Decryption\n",
    "'''DECRYPTION ALGORITHM'''\n",
    "def decrypt(priv_key,c_text):\n",
    "    d,n=priv_key\n",
    "    txt=c_text.split(',')\n",
    "    x=''\n",
    "    m=0\n",
    "    for i in txt:\n",
    "        if(i=='400'):\n",
    "            x+=' '\n",
    "        else:\n",
    "            m=(int(i)**d)%n\n",
    "            if(m>=26):\n",
    "                m=m-26+48\n",
    "                c=chr(m)\n",
    "                x+=c\n",
    "            else:\n",
    "                m+=65\n",
    "                c=chr(m)\n",
    "                x+=c\n",
    "    return x"
   ]
  },
  {
   "cell_type": "code",
   "execution_count": null,
   "metadata": {},
   "outputs": [],
   "source": [
    "#Message\n",
    "f = open(\"keys.txt\",'r')\n",
    "keys_to_encrypt=f.read()\n",
    "lst=keys_to_encrypt.split('####')"
   ]
  },
  {
   "cell_type": "code",
   "execution_count": null,
   "metadata": {},
   "outputs": [],
   "source": [
    "choose = '1'"
   ]
  },
  {
   "cell_type": "code",
   "execution_count": null,
   "metadata": {
    "scrolled": false
   },
   "outputs": [],
   "source": [
    "enc_msg=[]\n",
    "#Choose Encrypt or Decrypt and Print\n",
    "for j in range(0,4):\n",
    "    if(choose=='1'):\n",
    "        enc_msg.append(encrypt(public,lst[j]))\n",
    "      #  print(\"Your message to be encrypted is \",lst[j])\n",
    "       # print(\"Your encrypted message is:\",enc_msg[j])\n",
    "#     elif(choose=='2'):\n",
    "#         #print(\"Your decrypted message is:\",decrypt(private,enc_key1))\n",
    "    else:\n",
    "        print(\"You entered the wrong option.\")"
   ]
  },
  {
   "cell_type": "code",
   "execution_count": null,
   "metadata": {},
   "outputs": [],
   "source": [
    "enc_key1=str(enc_msg[0])\n",
    "enc_key1=enc_key1[1:-1]\n",
    "enc_key2=str(enc_msg[1])\n",
    "enc_key2=enc_key2[1:-1]\n",
    "enc_key3=str(enc_msg[2])\n",
    "enc_key3=enc_key3[1:-1]\n",
    "enc_key4=str(enc_msg[3])\n",
    "enc_key4=enc_key4[1:-1]\n",
    "enc_keys=[enc_key1,enc_key2,enc_key3,enc_key4]"
   ]
  },
  {
   "cell_type": "code",
   "execution_count": null,
   "metadata": {},
   "outputs": [],
   "source": [
    "f = open(\"output.txt\",'r')\n",
    "encrypted_keys_to_add=f.read()\n",
    "print(encrypted_keys_to_add)\n",
    "for enc_key in enc_msg:\n",
    "    encrypted_keys_to_add+='####'\n",
    "    encrypted_keys_to_add+=str(enc_key)"
   ]
  },
  {
   "cell_type": "code",
   "execution_count": null,
   "metadata": {},
   "outputs": [],
   "source": [
    "encrypted_keys_to_add"
   ]
  },
  {
   "cell_type": "code",
   "execution_count": null,
   "metadata": {},
   "outputs": [],
   "source": [
    "encrypted_keys_to_add.split('####')"
   ]
  },
  {
   "cell_type": "code",
   "execution_count": null,
   "metadata": {},
   "outputs": [],
   "source": [
    "f = open('output.txt','w')\n",
    "f.write(encrypted_keys_to_add)"
   ]
  },
  {
   "cell_type": "code",
   "execution_count": null,
   "metadata": {},
   "outputs": [],
   "source": [
    "f = open('output.txt','r')\n",
    "f.read()"
   ]
  }
 ],
 "metadata": {
  "kernelspec": {
   "display_name": "Python 3",
   "language": "python",
   "name": "python3"
  },
  "language_info": {
   "codemirror_mode": {
    "name": "ipython",
    "version": 3
   },
   "file_extension": ".py",
   "mimetype": "text/x-python",
   "name": "python",
   "nbconvert_exporter": "python",
   "pygments_lexer": "ipython3",
   "version": "3.8.5"
  }
 },
 "nbformat": 4,
 "nbformat_minor": 4
}
